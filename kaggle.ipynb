{
  "nbformat": 4,
  "nbformat_minor": 0,
  "metadata": {
    "colab": {
      "name": "kaggle.ipynb",
      "provenance": [],
      "collapsed_sections": [],
      "authorship_tag": "ABX9TyM+k6yFgclYRYIamgTwjdHp",
      "include_colab_link": true
    },
    "kernelspec": {
      "name": "python3",
      "display_name": "Python 3"
    },
    "language_info": {
      "name": "python"
    }
  },
  "cells": [
    {
      "cell_type": "markdown",
      "metadata": {
        "id": "view-in-github",
        "colab_type": "text"
      },
      "source": [
        "<a href=\"https://colab.research.google.com/github/ejkaaa/pandas/blob/main/kaggle.ipynb\" target=\"_parent\"><img src=\"https://colab.research.google.com/assets/colab-badge.svg\" alt=\"Open In Colab\"/></a>"
      ]
    },
    {
      "cell_type": "markdown",
      "source": [
        "# How to Use Kaggle\n",
        "[instrukce](https://www.kaggle.com/docs/api)"
      ],
      "metadata": {
        "id": "BWFeu_dGdOyh"
      }
    },
    {
      "cell_type": "code",
      "source": [
        "from google.colab import drive\n",
        "drive.mount('/content/gdrive', force_remount=True)"
      ],
      "metadata": {
        "colab": {
          "base_uri": "https://localhost:8080/"
        },
        "id": "-7FANJBh06uI",
        "outputId": "345b5dbe-5098-44b5-d5e2-eee2d8263c86"
      },
      "execution_count": null,
      "outputs": [
        {
          "output_type": "stream",
          "name": "stdout",
          "text": [
            "Mounted at /content/gdrive\n"
          ]
        }
      ]
    },
    {
      "cell_type": "code",
      "execution_count": null,
      "metadata": {
        "colab": {
          "base_uri": "https://localhost:8080/"
        },
        "id": "1wH4efJD93gB",
        "outputId": "83e09782-7b47-4cc1-da3b-7ae3b2022b64"
      },
      "outputs": [
        {
          "output_type": "stream",
          "name": "stdout",
          "text": [
            "mkdir: cannot create directory ‘/root/.kaggle’: File exists\n",
            "Collecting kaggle\n",
            "  Using cached kaggle-1.5.12-py3-none-any.whl\n",
            "Installing collected packages: kaggle\n",
            "  Attempting uninstall: kaggle\n",
            "    Found existing installation: kaggle 1.5.12\n",
            "    Uninstalling kaggle-1.5.12:\n",
            "      Successfully uninstalled kaggle-1.5.12\n",
            "Successfully installed kaggle-1.5.12\n"
          ]
        }
      ],
      "source": [
        "! pip install -q kaggle\n",
        "\n",
        "from google.colab import files\n",
        " # files.upload()                   \n",
        " # Choose the kaggle.json file that you downloaded\n",
        "\n",
        "! mkdir ~/.kaggle\n",
        "! cp /content/gdrive/MyDrive/2_datasety/kaggle.json ~/.kaggle/\n",
        "! chmod 600 ~/.kaggle/kaggle.json\n",
        "\n",
        "#for upgrading to the latest api\n",
        "!pip install --upgrade --force-reinstall --no-deps kaggle     "
      ]
    },
    {
      "cell_type": "code",
      "source": [
        "!kaggle competitions list"
      ],
      "metadata": {
        "colab": {
          "base_uri": "https://localhost:8080/"
        },
        "id": "0NOm6szlAUQt",
        "outputId": "21b91831-a446-4c36-bccd-251bfbd9dd05"
      },
      "execution_count": null,
      "outputs": [
        {
          "output_type": "stream",
          "name": "stdout",
          "text": [
            "ref                                            deadline             category            reward  teamCount  userHasEntered  \n",
            "---------------------------------------------  -------------------  ---------------  ---------  ---------  --------------  \n",
            "contradictory-my-dear-watson                   2030-07-01 23:59:00  Getting Started     Prizes         87           False  \n",
            "gan-getting-started                            2030-07-01 23:59:00  Getting Started     Prizes        107           False  \n",
            "store-sales-time-series-forecasting            2030-06-30 23:59:00  Getting Started  Knowledge        895           False  \n",
            "tpu-getting-started                            2030-06-03 23:59:00  Getting Started  Knowledge        160           False  \n",
            "digit-recognizer                               2030-01-01 00:00:00  Getting Started  Knowledge       1850           False  \n",
            "titanic                                        2030-01-01 00:00:00  Getting Started  Knowledge      13912            True  \n",
            "house-prices-advanced-regression-techniques    2030-01-01 00:00:00  Getting Started  Knowledge       5267            True  \n",
            "connectx                                       2030-01-01 00:00:00  Getting Started  Knowledge        221           False  \n",
            "nlp-getting-started                            2030-01-01 00:00:00  Getting Started  Knowledge        849           False  \n",
            "competitive-data-science-predict-future-sales  2022-12-31 23:59:00  Playground           Kudos      13317           False  \n",
            "feedback-prize-2021                            2022-03-15 23:59:00  Featured          $160,000        520           False  \n",
            "tensorflow-great-barrier-reef                  2022-02-14 23:59:00  Research          $150,000        972           False  \n",
            "jigsaw-toxic-severity-rating                   2022-02-07 23:59:00  Featured           $50,000       1513           False  \n",
            "g-research-crypto-forecasting                  2022-02-01 23:59:00  Featured          $125,000       1344           False  \n",
            "tabular-playground-series-jan-2022             2022-01-31 23:59:00  Playground           Kudos        373           False  \n",
            "petfinder-pawpularity-score                    2022-01-13 23:59:00  Research           $25,000       3384           False  \n",
            "santa-2021                                     2022-01-11 23:59:00  Featured           $25,000        828           False  \n",
            "optiver-realized-volatility-prediction         2022-01-10 23:59:00  Featured          $100,000       3852           False  \n",
            "nfl-big-data-bowl-2022                         2022-01-06 23:59:00  Analytics         $100,000          0           False  \n",
            "tabular-playground-series-dec-2021             2021-12-31 23:59:00  Playground            Swag       1188           False  \n"
          ]
        }
      ]
    },
    {
      "cell_type": "code",
      "source": [
        "!kaggle datasets list -s [solar]"
      ],
      "metadata": {
        "colab": {
          "base_uri": "https://localhost:8080/"
        },
        "id": "YyYCrqSV-Eif",
        "outputId": "73c53fc7-e59a-40ed-fa9f-f9986b2b7159"
      },
      "execution_count": null,
      "outputs": [
        {
          "output_type": "stream",
          "name": "stdout",
          "text": [
            "ref                                                     title                                          size  lastUpdated          downloadCount  voteCount  usabilityRating  \n",
            "------------------------------------------------------  --------------------------------------------  -----  -------------------  -------------  ---------  ---------------  \n",
            "anikannal/solar-power-generation-data                   Solar Power Generation Data                     2MB  2020-08-18 15:52:03          20702        719  1.0              \n",
            "dronio/SolarEnergy                                      Solar Radiation Prediction                    511KB  2017-05-21 18:19:42           9463        240  0.8235294        \n",
            "nasa/solar-eclipses                                     Solar and Lunar Eclipses                      834KB  2017-02-09 15:44:17           2324         93  0.8235294        \n",
            "khsamaha/solar-flares-rhessi                            Solar Flares from RHESSI Mission                6MB  2021-04-07 06:59:12            963         50  1.0              \n",
            "aradzhabov/earthquakes-solar-system-objects             Earthquakes <-?-> Solar System objects?         2MB  2017-04-22 21:42:59           1096         34  0.8235294        \n",
            "us-doe/tmy3-solar                                       TMY3 Solar                                    234MB  2017-09-15 18:24:37           1025         34  0.8235294        \n",
            "fvcoppen/solarpanelspower                               Daily Power Production of Solar Panels         44KB  2021-09-05 08:20:53           2951         71  0.7941176        \n",
            "tunguz/deep-solar-dataset                               DeepSolar Dataset                              42MB  2018-12-20 15:24:00           1170        105  1.0              \n",
            "sohier/30-years-of-european-solar-generation            30 Years of European Solar Generation         147MB  2017-09-14 20:46:44           2622        108  0.8235294        \n",
            "nasa/trappist1                                          Trappist-1 Solar System                         1KB  2017-02-23 18:11:03            526         20  0.8235294        \n",
            "vipulgote4/solar-power-generation                       Solar power Generation                         47KB  2020-09-03 08:18:15            587         22  0.8235294        \n",
            "heliodata/instruments-solarflares                       Viewing Solar Flares                          403KB  2017-10-30 15:56:11            482         17  0.7647059        \n",
            "robervalt/sunspots                                      Sunspots                                       22KB  2021-02-11 13:53:52           5693        119  0.8235294        \n",
            "mrisdal/open-exoplanet-catalogue                        Open Exoplanet Catalogue                      123KB  2017-06-08 19:59:22           3400        161  0.8235294        \n",
            "arielcedola/solar-generation-and-demand-italy-20152016  Solar generation and demand Italy 2015-2016   122KB  2018-01-17 01:01:53           1642         38  0.8235294        \n",
            "saurabhshahane/surface-solar-radiation-dataset          Surface Solar Radiation Dataset                71KB  2021-02-26 18:44:24            131         10  1.0              \n",
            "arnavsharmaas/solar-panel-pv-system-dataset             Solar Panel PV System Dataset                  75MB  2020-12-26 19:09:56            196         14  0.8235294        \n",
            "jboysen/google-project-sunroof                          Google Project Sunroof                         18MB  2017-09-11 17:40:20           1875         68  0.8235294        \n",
            "arashnic/soalr-wind                                     NASA and NOAA  Satellites Solar-Wind Dataset  276MB  2020-12-22 01:51:47            334         17  1.0              \n",
            "abhinand05/daily-sun-spot-data-1818-to-2019             Daily Sun Spot Data (1818 to 2019)            681KB  2019-11-21 17:19:21            817         33  1.0              \n"
          ]
        }
      ]
    },
    {
      "cell_type": "code",
      "source": [
        "!kaggle competitions download -c titanic"
      ],
      "metadata": {
        "id": "YfcyTZB1DUn1"
      },
      "execution_count": null,
      "outputs": []
    },
    {
      "cell_type": "code",
      "source": [
        "pd.read_csv('train.csv')"
      ],
      "metadata": {
        "id": "8NHeEuJvhsZ5"
      },
      "execution_count": null,
      "outputs": []
    },
    {
      "cell_type": "code",
      "source": [
        "!kaggle competitions submit -c titanic -f /content/gender_submission.csv -m test_sub"
      ],
      "metadata": {
        "id": "QcDi3oCThxKW"
      },
      "execution_count": null,
      "outputs": []
    }
  ]
}